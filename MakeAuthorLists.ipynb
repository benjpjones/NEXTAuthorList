{
 "cells": [
  {
   "cell_type": "code",
   "execution_count": 1,
   "metadata": {},
   "outputs": [],
   "source": [
    "import pandas as pd\n",
    "import numpy as np\n",
    "import string"
   ]
  },
  {
   "cell_type": "code",
   "execution_count": 2,
   "metadata": {},
   "outputs": [],
   "source": [
    "dat=pd.read_excel(\"./AuthorList.xlsx\",engine='openpyxl').set_index('id')\n"
   ]
  },
  {
   "cell_type": "code",
   "execution_count": 3,
   "metadata": {},
   "outputs": [],
   "source": [
    "#FirstAuthorIDs=[51,79,105,13,21,32,71,74,101]\n",
    "FirstAuthorIDs=[]"
   ]
  },
  {
   "cell_type": "code",
   "execution_count": 4,
   "metadata": {},
   "outputs": [],
   "source": [
    "#Lift from excel sheet which columns are institutions and addresses.\n",
    "# Anything labeled \"Institution\" is an institution column and the one to its\n",
    "# right is an address column.\n",
    "ar=[\"Institution\" in i for i in dat.columns]\n",
    "InstColumns=np.array(dat.columns)[ar]\n",
    "AddrColumns=np.array(dat.columns)[np.concatenate([[False],ar[:-1]])]\n",
    "AddrDict={InstColumns[i]:AddrColumns[i] for i in range(0,len(InstColumns))}"
   ]
  },
  {
   "cell_type": "code",
   "execution_count": 5,
   "metadata": {},
   "outputs": [],
   "source": [
    "# Put the author list and list of institutions in the correct order\n",
    "OrderOfAuthors=[]\n",
    "UniqueInstitutions=[]\n",
    "Addresses=[]\n",
    "for i in FirstAuthorIDs:\n",
    "    OrderOfAuthors.append(i)\n",
    "    for InstCol in InstColumns:\n",
    "        if(dat.loc[i].notna()[InstCol] and not dat.loc[i][InstCol] in UniqueInstitutions):\n",
    "            UniqueInstitutions.append(dat.loc[i][InstCol])\n",
    "            Addresses.append(dat.loc[i][AddrDict[InstCol]])\n",
    "    \n",
    "for i in dat.index:\n",
    "    if i not in FirstAuthorIDs:\n",
    "        OrderOfAuthors.append(i)\n",
    "        for InstCol in InstColumns:\n",
    "            if(dat.loc[i].notna()[InstCol] and not dat.loc[i][InstCol] in UniqueInstitutions):\n",
    "                UniqueInstitutions.append(dat.loc[i][InstCol])\n",
    "                Addresses.append(dat.loc[i][AddrDict[InstCol]])\n",
    "           \n",
    "UniqueInstitutions=np.array(UniqueInstitutions)\n",
    "def InstitutionID(Name):\n",
    "    return str(np.where(UniqueInstitutions==Name)[0][0])\n",
    "\n",
    "UniqueNotes=dat.loc[OrderOfAuthors].Footnote.unique()\n",
    "\n",
    "def NoteID(Name):\n",
    "    return str(num2alpha[np.where(UniqueNotes==Name)[0][0]+1])\n",
    "\n",
    "\n",
    "num2alpha = dict(zip(range(1, 27), string.ascii_lowercase))"
   ]
  },
  {
   "cell_type": "code",
   "execution_count": 6,
   "metadata": {},
   "outputs": [
    {
     "data": {
      "text/plain": [
       "array(['Institution1', 'Institution2', 'Institution3'], dtype=object)"
      ]
     },
     "execution_count": 6,
     "metadata": {},
     "output_type": "execute_result"
    }
   ],
   "source": [
    "InstColumns"
   ]
  },
  {
   "cell_type": "code",
   "execution_count": 7,
   "metadata": {},
   "outputs": [],
   "source": [
    "# Function to make the author list for IOP journals (JCAP, JHEP, JINST...)\n",
    "\n",
    "def MakeIOPAuthorList():\n",
    "    authorlist=str()\n",
    "    for a in OrderOfAuthors:\n",
    "        entry=dat.loc[a]\n",
    "        instids=\"\"\n",
    "        for InstCol in InstColumns:\n",
    "            if(entry.notna()[InstCol]):\n",
    "                instids+=InstitutionID(entry[InstCol])+\",\"\n",
    "        if(len(str(entry.Footnote))>5):\n",
    "            authorlist+=(\"\\\\author[\"+instids+NoteID(entry.Footnote)+\"]{\"+entry.Initial.strip()+\"~\"+entry.LastName.strip()+\",}\\n\")\n",
    "            authorlist+=('\\\\note['+NoteID(entry.Footnote)+']{' + entry.Footnote.strip() + '}\\n')\n",
    "        else:\n",
    "            authorlist+=(\"\\\\author[\"+instids[:-1]+\"]{\"+entry.Initial.strip()+\"~\"+entry.LastName.strip()+\",}\\n\")\n",
    "        authorlist+=(\"%\\n\")\n",
    "    authorlist+=(\"%\\n\")\n",
    "    for i in range(0,len(UniqueInstitutions)):\n",
    "        authorlist+=\"\\\\affiliation[\" + str(InstitutionID(UniqueInstitutions[i])) + ']{\\n' + UniqueInstitutions[i].replace('\\\\\\\\','\\\\\\\\\\n')+\", \"+Addresses[i]+\"}\\n\"\n",
    "        authorlist+=(\"%\\n\")\n",
    "    return authorlist"
   ]
  },
  {
   "cell_type": "code",
   "execution_count": 8,
   "metadata": {},
   "outputs": [],
   "source": [
    "# Function to make the author list for Elsevier journals (NIM...)\n",
    "\n",
    "def MakeElsevierAuthorList():\n",
    "    authorlist=str()\n",
    "    for a in OrderOfAuthors:\n",
    "        entry=dat.loc[a]\n",
    "        instids=\"\"\n",
    "        for InstCol in InstColumns:\n",
    "            if(entry.notna()[InstCol]):\n",
    "                instids+=InstitutionID(entry[InstCol])+\",\"\n",
    "        if(len(str(entry.Footnote))>5):\n",
    "            authorlist+=(\"\\\\author[\"+instids[:-1]+\"]{\"+entry.Initial.strip()+\"~\"+entry.LastName.strip()+\"\\corref{\"+NoteID(entry.Footnote)+\"}}\\n\")\n",
    "            authorlist+=('\\\\cortext['+NoteID(entry.Footnote)+']{' + entry.Footnote.strip() + '}\\n')\n",
    "        else:\n",
    "            authorlist+=(\"\\\\author[\"+instids[:-1]+\"]{\"+entry.Initial.strip()+\"~\"+entry.LastName.strip()+\"}\\n\")\n",
    "        authorlist+=(\"%\\n\")\n",
    "    authorlist+=(\"%\\n\")\n",
    "    for i in range(0,len(UniqueInstitutions)):\n",
    "        authorlist+=\"\\\\address[\" + InstitutionID(UniqueInstitutions[i]) + ']{\\n' + UniqueInstitutions[i].replace('\\\\\\\\','\\\\\\\\\\n')+\", \"+ Addresses[i]+\"}\\n\"\n",
    "        authorlist+=(\"%\\n\")\n",
    "    return authorlist"
   ]
  },
  {
   "cell_type": "code",
   "execution_count": 9,
   "metadata": {},
   "outputs": [],
   "source": [
    "# Function to make the author list for APS journals (PRD, PRL...)\n",
    "\n",
    "def MakeAPSAuthorList():\n",
    "    authorlist=str()\n",
    "    for a in OrderOfAuthors:\n",
    "        entry=dat.loc[a]\n",
    "        authorlist+=\"\\\\author{\"+entry.Initial.strip()+\"~\"+entry.LastName.strip()+\",}\\n\"\n",
    "        for InstCol in InstColumns:\n",
    "            if(entry.notna()[InstCol]):\n",
    "                authorlist+=\"\\\\affiliation{\"+entry[InstCol].replace('\\\\\\\\','\\\\\\\\\\n')+\", \"+entry[AddrDict[InstCol]]+\"}\\n\"\n",
    "        if(len(str(entry.Footnote))>5):\n",
    "            authorlist+=('\\\\thanks{' + entry.Footnote.strip() + '}\\n')\n",
    "        authorlist+=(\"%\\n\")\n",
    "    return authorlist"
   ]
  },
  {
   "cell_type": "code",
   "execution_count": 10,
   "metadata": {},
   "outputs": [],
   "source": [
    "# Function to make the author list for arXiv\n",
    "\n",
    "def MakeArXivAuthorList():\n",
    "    authorlist=str(\"NEXT Collaboration: \")\n",
    "    for a in OrderOfAuthors[:-1]:\n",
    "        entry=dat.loc[a]\n",
    "        authorlist+=entry.Initial.strip()+\" \"+entry.LastName.strip()+\", \"\n",
    "    entry=dat.loc[OrderOfAuthors[-1]]\n",
    "    authorlist=authorlist[:-2]+\" and \" + entry.Initial.strip()+\" \"+entry.LastName.strip()\n",
    "    return authorlist"
   ]
  },
  {
   "cell_type": "code",
   "execution_count": 11,
   "metadata": {},
   "outputs": [
    {
     "ename": "NameError",
     "evalue": "name 'GetOrderOfAuthors' is not defined",
     "output_type": "error",
     "traceback": [
      "\u001b[0;31m---------------------------------------------------------------------------\u001b[0m",
      "\u001b[0;31mNameError\u001b[0m                                 Traceback (most recent call last)",
      "\u001b[0;32m<ipython-input-11-5ab746d7c083>\u001b[0m in \u001b[0;36m<module>\u001b[0;34m\u001b[0m\n\u001b[1;32m     14\u001b[0m \u001b[0;34m\u001b[0m\u001b[0m\n\u001b[1;32m     15\u001b[0m \u001b[0mf\u001b[0m\u001b[0;34m=\u001b[0m\u001b[0mopen\u001b[0m\u001b[0;34m(\u001b[0m\u001b[0;34m\"authors_arxiv.tex\"\u001b[0m\u001b[0;34m,\u001b[0m\u001b[0;34m'w'\u001b[0m\u001b[0;34m)\u001b[0m\u001b[0;34m\u001b[0m\u001b[0;34m\u001b[0m\u001b[0m\n\u001b[0;32m---> 16\u001b[0;31m \u001b[0mf\u001b[0m\u001b[0;34m.\u001b[0m\u001b[0mwrite\u001b[0m\u001b[0;34m(\u001b[0m\u001b[0mMakeArXivAuthorList\u001b[0m\u001b[0;34m(\u001b[0m\u001b[0;34m)\u001b[0m\u001b[0;34m)\u001b[0m\u001b[0;34m\u001b[0m\u001b[0;34m\u001b[0m\u001b[0m\n\u001b[0m\u001b[1;32m     17\u001b[0m \u001b[0mf\u001b[0m\u001b[0;34m.\u001b[0m\u001b[0mclose\u001b[0m\u001b[0;34m(\u001b[0m\u001b[0;34m)\u001b[0m\u001b[0;34m\u001b[0m\u001b[0;34m\u001b[0m\u001b[0m\n",
      "\u001b[0;32m<ipython-input-10-e7e8afe45ef9>\u001b[0m in \u001b[0;36mMakeArXivAuthorList\u001b[0;34m()\u001b[0m\n\u001b[1;32m      2\u001b[0m \u001b[0;34m\u001b[0m\u001b[0m\n\u001b[1;32m      3\u001b[0m \u001b[0;32mdef\u001b[0m \u001b[0mMakeArXivAuthorList\u001b[0m\u001b[0;34m(\u001b[0m\u001b[0;34m)\u001b[0m\u001b[0;34m:\u001b[0m\u001b[0;34m\u001b[0m\u001b[0;34m\u001b[0m\u001b[0m\n\u001b[0;32m----> 4\u001b[0;31m     \u001b[0mOrderOfAuthors\u001b[0m\u001b[0;34m=\u001b[0m\u001b[0mGetOrderOfAuthors\u001b[0m\u001b[0;34m(\u001b[0m\u001b[0mFirstAuthorIDs\u001b[0m\u001b[0;34m)\u001b[0m\u001b[0;34m\u001b[0m\u001b[0;34m\u001b[0m\u001b[0m\n\u001b[0m\u001b[1;32m      5\u001b[0m     \u001b[0mauthorlist\u001b[0m\u001b[0;34m=\u001b[0m\u001b[0mstr\u001b[0m\u001b[0;34m(\u001b[0m\u001b[0;34m\"NEXT Collaboration: \"\u001b[0m\u001b[0;34m)\u001b[0m\u001b[0;34m\u001b[0m\u001b[0;34m\u001b[0m\u001b[0m\n\u001b[1;32m      6\u001b[0m     \u001b[0;32mfor\u001b[0m \u001b[0ma\u001b[0m \u001b[0;32min\u001b[0m \u001b[0mOrderOfAuthors\u001b[0m\u001b[0;34m[\u001b[0m\u001b[0;34m:\u001b[0m\u001b[0;34m-\u001b[0m\u001b[0;36m1\u001b[0m\u001b[0;34m]\u001b[0m\u001b[0;34m:\u001b[0m\u001b[0;34m\u001b[0m\u001b[0;34m\u001b[0m\u001b[0m\n",
      "\u001b[0;31mNameError\u001b[0m: name 'GetOrderOfAuthors' is not defined"
     ]
    }
   ],
   "source": [
    "# Make author lists and store to .tex\n",
    "\n",
    "f=open(\"authors_elsevier.tex\",'w')\n",
    "f.write(MakeElsevierAuthorList())\n",
    "f.close()\n",
    "\n",
    "f=open(\"authors_iop.tex\",'w')\n",
    "f.write(MakeIOPAuthorList())\n",
    "f.close()\n",
    "\n",
    "f=open(\"authors_aps.tex\",'w')\n",
    "f.write(MakeAPSAuthorList())\n",
    "f.close()\n",
    "\n",
    "f=open(\"authors_arxiv.tex\",'w')\n",
    "f.write(MakeArXivAuthorList())\n",
    "f.close()"
   ]
  }
 ],
 "metadata": {
  "kernelspec": {
   "display_name": "Python 3",
   "language": "python",
   "name": "python3"
  },
  "language_info": {
   "codemirror_mode": {
    "name": "ipython",
    "version": 3
   },
   "file_extension": ".py",
   "mimetype": "text/x-python",
   "name": "python",
   "nbconvert_exporter": "python",
   "pygments_lexer": "ipython3",
   "version": "3.8.6"
  }
 },
 "nbformat": 4,
 "nbformat_minor": 4
}
