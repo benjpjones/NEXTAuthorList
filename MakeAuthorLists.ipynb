{
 "cells": [
  {
   "cell_type": "code",
   "execution_count": 329,
   "metadata": {},
   "outputs": [],
   "source": [
    "import pandas as pd\n",
    "import numpy as np\n",
    "import string"
   ]
  },
  {
   "cell_type": "code",
   "execution_count": 330,
   "metadata": {},
   "outputs": [],
   "source": [
    "dat=pd.read_excel(\"./AuthorList.xlsx\",engine='openpyxl').set_index('id')"
   ]
  },
  {
   "cell_type": "code",
   "execution_count": 331,
   "metadata": {},
   "outputs": [],
   "source": [
    "#FirstAuthorIDs=[51,79,105,13,21,32,71,74,101]\n",
    "FirstAuthorIDs=[]"
   ]
  },
  {
   "cell_type": "code",
   "execution_count": 332,
   "metadata": {},
   "outputs": [],
   "source": [
    "# Put the author list and list of institutions in the correct order\n",
    "\n",
    "OrderOfAuthors=[]\n",
    "for i in FirstAuthorIDs:\n",
    "    OrderOfAuthors.append(i)\n",
    "for i in dat.index:\n",
    "    if i not in FirstAuthorIDs:\n",
    "        OrderOfAuthors.append(i)\n",
    "\n",
    "UniqueInstitutions=dat.loc[OrderOfAuthors].Institution.unique()\n",
    "Addresses=[]\n",
    "\n",
    "for u in UniqueInstitutions:\n",
    "    Addresses.append(dat[dat.Institution==u].iloc[0].Address)\n",
    "\n",
    "def InstitutionID(Name):\n",
    "    return str(np.where(UniqueInstitutions==Name)[0][0])\n",
    "\n",
    "UniqueNotes=dat.loc[OrderOfAuthors].Footnote.unique()\n",
    "\n",
    "def NoteID(Name):\n",
    "    return str(num2alpha[np.where(UniqueNotes==Name)[0][0]+1])\n",
    "\n",
    "\n",
    "num2alpha = dict(zip(range(1, 27), string.ascii_lowercase))"
   ]
  },
  {
   "cell_type": "code",
   "execution_count": 333,
   "metadata": {},
   "outputs": [],
   "source": [
    "# Function to make the author list for IOP journals (JCAP, JHEP, JINST...)\n",
    "\n",
    "def MakeIOPAuthorList():\n",
    "    OrderOfAuthors=GetOrderOfAuthors(FirstAuthorIDs)\n",
    "    authorlist=str()\n",
    "    for a in OrderOfAuthors:\n",
    "        entry=dat.loc[a]\n",
    "        if(len(str(entry.Footnote))>5):\n",
    "            authorlist+=(\"\\\\author[\"+InstitutionID(entry.Institution)+\",\"+NoteID(entry.Footnote)+\"]{\"+entry.Initial.strip()+\"~\"+entry.LastName.strip()+\",}\\n\")\n",
    "            authorlist+=('\\\\note['+NoteID(entry.Footnote)+']{' + entry.Footnote.strip() + '}\\n')\n",
    "        else:\n",
    "            authorlist+=(\"\\\\author[\"+InstitutionID(entry.Institution)+\"]{\"+entry.Initial.strip()+\"~\"+entry.LastName.strip()+\",}\\n\")\n",
    "        authorlist+=(\"%\\n\")\n",
    "    authorlist+=(\"%\\n\")\n",
    "    for i in range(0,len(UniqueInstitutions)):\n",
    "        authorlist+=\"\\\\affiliation[\" + InstitutionID(UniqueInstitutions[i]) + ']{\\n' + UniqueInstitutions[i].replace('\\\\\\\\','\\\\\\\\\\n')+\", \"+Addresses[i]+\"}\\n\"\n",
    "        authorlist+=(\"%\\n\")\n",
    "    return authorlist"
   ]
  },
  {
   "cell_type": "code",
   "execution_count": 334,
   "metadata": {},
   "outputs": [],
   "source": [
    "# Function to make the author list for Elsevier journals (NIM...)\n",
    "\n",
    "def MakeElsevierAuthorList():\n",
    "    OrderOfAuthors=GetOrderOfAuthors(FirstAuthorIDs)\n",
    "    authorlist=str()\n",
    "    for a in OrderOfAuthors:\n",
    "        entry=dat.loc[a]\n",
    "        if(len(str(entry.Footnote))>5):\n",
    "            authorlist+=(\"\\\\author[\"+InstitutionID(entry.Institution)+\"]{\"+entry.Initial.strip()+\"~\"+entry.LastName.strip()+\"\\corref{\"+NoteID(entry.Footnote)+\"}}\\n\")\n",
    "            authorlist+=('\\\\cortext['+NoteID(entry.Footnote)+']{' + entry.Footnote.strip() + '}\\n')\n",
    "        else:\n",
    "            authorlist+=(\"\\\\author[\"+InstitutionID(entry.Institution)+\"]{\"+entry.Initial.strip()+\"~\"+entry.LastName.strip()+\"}\\n\")\n",
    "        authorlist+=(\"%\\n\")\n",
    "    authorlist+=(\"%\\n\")\n",
    "    for i in range(0,len(UniqueInstitutions)):\n",
    "        authorlist+=\"\\\\address[\" + InstitutionID(UniqueInstitutions[i]) + ']{\\n' + UniqueInstitutions[i].replace('\\\\\\\\','\\\\\\\\\\n')+\", \"+ Addresses[i]+\"}\\n\"\n",
    "        authorlist+=(\"%\\n\")\n",
    "    return authorlist"
   ]
  },
  {
   "cell_type": "code",
   "execution_count": 335,
   "metadata": {},
   "outputs": [],
   "source": [
    "# Function to make the author list for APS journals (PRD, PRL...)\n",
    "\n",
    "def MakeAPSAuthorList():\n",
    "    OrderOfAuthors=GetOrderOfAuthors(FirstAuthorIDs)\n",
    "    authorlist=str()\n",
    "    for a in OrderOfAuthors:\n",
    "        entry=dat.loc[a]\n",
    "        authorlist+=\"\\\\author{\"+entry.Initial.strip()+\"~\"+entry.LastName.strip()+\",}\\n\"\n",
    "        authorlist+=\"\\\\affiliation{\"+entry.Institution.replace('\\\\\\\\','\\\\\\\\\\n')+entry.Address+\"}\\n\"\n",
    "        if(len(str(entry.Footnote))>5):\n",
    "            authorlist+=('\\\\thanks{' + entry.Footnote.strip() + '}\\n')\n",
    "        authorlist+=(\"%\\n\")\n",
    "    return authorlist"
   ]
  },
  {
   "cell_type": "code",
   "execution_count": 336,
   "metadata": {},
   "outputs": [],
   "source": [
    "# Function to make the author list for arXiv\n",
    "\n",
    "def MakeArXivAuthorList():\n",
    "    OrderOfAuthors=GetOrderOfAuthors(FirstAuthorIDs)\n",
    "    authorlist=str(\"NEXT Collaboration: \")\n",
    "    for a in OrderOfAuthors[:-1]:\n",
    "        entry=dat.loc[a]\n",
    "        authorlist+=entry.Initial.strip()+\" \"+entry.LastName.strip()+\", \"\n",
    "    entry=dat.loc[OrderOfAuthors[-1]]\n",
    "    authorlist=authorlist[:-2]+\" and \" + entry.Initial.strip()+\" \"+entry.LastName.strip()\n",
    "    return authorlist"
   ]
  },
  {
   "cell_type": "code",
   "execution_count": 337,
   "metadata": {},
   "outputs": [],
   "source": [
    "# Make author lists and store to .tex\n",
    "\n",
    "f=open(\"authors_elsevier.tex\",'w')\n",
    "f.write(MakeElsevierAuthorList())\n",
    "f.close()\n",
    "\n",
    "f=open(\"authors_iop.tex\",'w')\n",
    "f.write(MakeIOPAuthorList())\n",
    "f.close()\n",
    "\n",
    "f=open(\"authors_aps.tex\",'w')\n",
    "f.write(MakeAPSAuthorList())\n",
    "f.close()\n",
    "\n",
    "f=open(\"authors_arxiv.tex\",'w')\n",
    "f.write(MakeArXivAuthorList())\n",
    "f.close()"
   ]
  },
  {
   "cell_type": "code",
   "execution_count": null,
   "metadata": {},
   "outputs": [],
   "source": []
  },
  {
   "cell_type": "code",
   "execution_count": null,
   "metadata": {},
   "outputs": [],
   "source": []
  },
  {
   "cell_type": "code",
   "execution_count": null,
   "metadata": {},
   "outputs": [],
   "source": []
  }
 ],
 "metadata": {
  "kernelspec": {
   "display_name": "Python 3",
   "language": "python",
   "name": "python3"
  },
  "language_info": {
   "codemirror_mode": {
    "name": "ipython",
    "version": 3
   },
   "file_extension": ".py",
   "mimetype": "text/x-python",
   "name": "python",
   "nbconvert_exporter": "python",
   "pygments_lexer": "ipython3",
   "version": "3.8.6"
  }
 },
 "nbformat": 4,
 "nbformat_minor": 4
}
